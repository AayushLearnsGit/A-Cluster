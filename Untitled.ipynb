{
 "cells": [
  {
   "cell_type": "markdown",
   "metadata": {},
   "source": [
    "# One Function of All 2D operation. "
   ]
  },
  {
   "cell_type": "code",
   "execution_count": 167,
   "metadata": {},
   "outputs": [],
   "source": [
    "def math_on_2d(mat1, mat2, operation= None):\n",
    "    if operation == '.':\n",
    "        if len(mat1) != len(mat2[0]): print('To make matmul, you need Row and Col matching'); return False\n",
    "        total = []\n",
    "        for i in range(len(mat1)):\n",
    "            row = []\n",
    "            for j in range(len(mat1)):\n",
    "                summer = 0\n",
    "                for k in range(len(mat2)):\n",
    "                    summer += mat1[i][k] * mat2[k][j]\n",
    "                row.append(summer)\n",
    "            total.append(row)\n",
    "        return total\n",
    "    \n",
    "    elif operation != None:\n",
    "        if (len(mat1) == len(mat2)) and (len(mat1[0] == len(mat2[0]))):\n",
    "            return [[eval(str(f\"{mat1[i][j]} {operation} {mat2[i][j]}\")) for j in range(len(mat2[0]))] for i in range(len(mat1))]\n",
    "        else:\n",
    "            print('Did you know you can only do some operation when both metrices are of same length?')\n",
    "    else:\n",
    "        print('Please choose some operation on your 2 matrices! Man! How Dumb!')"
   ]
  },
  {
   "cell_type": "code",
   "execution_count": 168,
   "metadata": {},
   "outputs": [],
   "source": [
    "import numpy as np\n",
    "\n",
    "a = np.random.randint(0, 100, (2,4))\n",
    "b = np.random.randint(0, 100, (4,2))"
   ]
  },
  {
   "cell_type": "code",
   "execution_count": 169,
   "metadata": {},
   "outputs": [
    {
     "data": {
      "text/plain": [
       "[[8547, 1746, 4398, 8292],\n",
       " [4540, 927, 2337, 4404],\n",
       " [7052, 462, 5554, 5624],\n",
       " [4789, 369, 3663, 3888]]"
      ]
     },
     "execution_count": 169,
     "metadata": {},
     "output_type": "execute_result"
    }
   ],
   "source": [
    "math_on_2d(b, a, '.')"
   ]
  }
 ],
 "metadata": {
  "kernelspec": {
   "display_name": "Python 3",
   "language": "python",
   "name": "python3"
  },
  "language_info": {
   "codemirror_mode": {
    "name": "ipython",
    "version": 3
   },
   "file_extension": ".py",
   "mimetype": "text/x-python",
   "name": "python",
   "nbconvert_exporter": "python",
   "pygments_lexer": "ipython3",
   "version": "3.8.5"
  }
 },
 "nbformat": 4,
 "nbformat_minor": 4
}
