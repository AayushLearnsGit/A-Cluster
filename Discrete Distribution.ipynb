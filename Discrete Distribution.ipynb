{
 "metadata": {
  "language_info": {
   "codemirror_mode": {
    "name": "ipython",
    "version": 3
   },
   "file_extension": ".py",
   "mimetype": "text/x-python",
   "name": "python",
   "nbconvert_exporter": "python",
   "pygments_lexer": "ipython3",
   "version": "3.8.5-final"
  },
  "orig_nbformat": 2,
  "kernelspec": {
   "name": "python3",
   "display_name": "Python 3.8.5 64-bit (conda)",
   "metadata": {
    "interpreter": {
     "hash": "cd8ac7ed5329ff1f59a8356dfddf06d159cf18414acbfd7b13d1d5cd1cbb5d7d"
    }
   }
  }
 },
 "nbformat": 4,
 "nbformat_minor": 2,
 "cells": [
  {
   "cell_type": "code",
   "execution_count": 1,
   "metadata": {},
   "outputs": [],
   "source": [
    "from table import Table"
   ]
  },
  {
   "cell_type": "code",
   "execution_count": 4,
   "metadata": {},
   "outputs": [],
   "source": [
    "import numpy as np"
   ]
  },
  {
   "cell_type": "code",
   "execution_count": 42,
   "metadata": {},
   "outputs": [],
   "source": [
    "data = np.random.randint(0, 10, 100)"
   ]
  },
  {
   "cell_type": "code",
   "execution_count": 45,
   "metadata": {},
   "outputs": [],
   "source": [
    "def discrete_freq(data):\n",
    "    unique = sorted(set(data))\n",
    "    numbers = {}\n",
    "    total = 0\n",
    "\n",
    "    for num in unique:\n",
    "        numbers[num] = 0\n",
    "    \n",
    "    for obs in data:\n",
    "        numbers[obs] += 1\n",
    "        total += 1\n",
    "    \n",
    "    Table(list(numbers.items()), headers= ['Number', 'Frequency']).construct()\n",
    "    print(\"Total: \", total)"
   ]
  },
  {
   "cell_type": "code",
   "execution_count": 46,
   "metadata": {},
   "outputs": [
    {
     "output_type": "stream",
     "name": "stdout",
     "text": [
      " + -------- + ----------- + \n |  Number  |  Frequency  | \n + -------- + ----------- + \n |        0 |           9 | \n |        1 |          11 | \n |        2 |           9 | \n |        3 |           9 | \n |        4 |           3 | \n |        5 |           7 | \n |        6 |          10 | \n |        7 |          15 | \n |        8 |          14 | \n |        9 |          13 | \n + -------- + ----------- + \nTotal:  100\n"
     ]
    }
   ],
   "source": [
    "discrete_freq(data)"
   ]
  }
 ]
}