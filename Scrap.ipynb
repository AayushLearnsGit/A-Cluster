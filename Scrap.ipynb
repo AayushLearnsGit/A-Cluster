{
 "metadata": {
  "language_info": {
   "codemirror_mode": {
    "name": "ipython",
    "version": 3
   },
   "file_extension": ".py",
   "mimetype": "text/x-python",
   "name": "python",
   "nbconvert_exporter": "python",
   "pygments_lexer": "ipython3",
   "version": "3.8.5"
  },
  "orig_nbformat": 2,
  "kernelspec": {
   "name": "python3",
   "display_name": "Python 3.8.5 64-bit ('base': conda)",
   "metadata": {
    "interpreter": {
     "hash": "cd8ac7ed5329ff1f59a8356dfddf06d159cf18414acbfd7b13d1d5cd1cbb5d7d"
    }
   }
  }
 },
 "nbformat": 4,
 "nbformat_minor": 2,
 "cells": [
  {
   "cell_type": "code",
   "execution_count": 5,
   "metadata": {},
   "outputs": [],
   "source": [
    "import requests\n",
    "import bs4"
   ]
  },
  {
   "cell_type": "code",
   "execution_count": 3,
   "metadata": {},
   "outputs": [],
   "source": [
    "url = \"https://www.flipkart.com/search?q=books&otracker=search&otracker1=search&marketplace=FLIPKART&as-show=on&as=off\"\n",
    "page = requests.get(url)"
   ]
  },
  {
   "cell_type": "code",
   "execution_count": 22,
   "metadata": {},
   "outputs": [],
   "source": [
    "div = \"_4ddWXP\""
   ]
  },
  {
   "cell_type": "code",
   "execution_count": 7,
   "metadata": {},
   "outputs": [],
   "source": [
    "soup = bs4.BeautifulSoup(page.content)"
   ]
  },
  {
   "cell_type": "code",
   "execution_count": 23,
   "metadata": {},
   "outputs": [],
   "source": [
    "books = soup.find_all('div', attrs= div)"
   ]
  },
  {
   "cell_type": "code",
   "execution_count": 37,
   "metadata": {
    "tags": []
   },
   "outputs": [
    {
     "output_type": "stream",
     "name": "stdout",
     "text": [
      "Life is What You Make it\nEnglish, Paperback, Shenoy Preeti\n4.2\n(20,145)\n₹114\n\nThink and Grow Rich\nEnglish, Paperback, Hill Napoleon\n4.5\n(43,569)\n₹116\n\nEducart CBSE Class 12 Chemistry Sample Question Papers ...\nPaperback, Arvind Arora (A2 Sir)\n4.5\n(93)\n₹207\n\nQuantitative Aptitude for Competitive Examinations - Qu...\nEnglish, Paperback, Aggarwal R. S.\n4.4\n(44,911)\n₹408\n\nSsc Constable Gd Exam Practice Sets Latest Book for 202...\nHindi, Paperback, Agrawal Examcart\n4.2\n(960)\n₹142\n\nENVIRONMENT 7th Revised Edition By Shankar IAS Academy\nPaperback, Shankar IAS academy\n4.2\n(7,523)\n₹173\n\nEducart All Subjects Final Revision Book Of CBSE Class ...\nPaperback, Educart\n4.3\n(1,493)\n₹168\n\nIndian Polity - for Civil Services and Other State Exam...\nEnglish, Hardcover, Laxmikanth M.\n4.6\n(25,466)\n₹595\n\nSsc Constable Gd Exam Guide 2021\nEnglish, Paperback, unknown\n4.4\n(260)\n₹182\n\n26 Years Upsc IAS/ Ips Prelims Topic-Wise Solved Papers...\nEnglish, Paperback, Patel Mrunal\n4.5\n(4,078)\n₹309\n\nLucent's General Knowledge And Arihant General Knowledg...\nPaperback, LUCENT, MANHOR PANDEY\n4.4\n(9,654)\n₹187\n\nObjective General English\nEnglish, Paperback, Bakshi S.P.\n4.4\n(42,509)\n₹205\n\nAll In One English Core For Class Xii Cbse\nPaperback, GAJENDRA SINGH\n4.6\n(491)\n₹365\n\nMessed Up! But All For Love\nEnglish, Paperback, Parashar Arvind\n4.3\n(855)\n₹100\n\nLucent's - General Knowledge 2020 Edition\nEnglish, Paperback, Lucent's EXPERT Team\n4.5\n(31,042)\n₹149\n\nBharat Ki Rajvyavastha - Civil Seva Evam Anya Rajya Par...\nHindi, Paperback, Laxmikanth M.\n4.5\n(10,409)\n₹518\n\nHarry Potter 1-3 Box Set: A Magical Adventure Begins\nEnglish, Mixed media product, Rowling J.K.\n4.5\n(590)\n₹890\n\nNCERT Flamingo And Vistas Supplementary Reader Textbook...\nPaperback, NCERT\n4.4\n(2,150)\n₹110\n\nLife's Amazing Secrets\nEnglish, Paperback, Das Gaur Gopal\n4.6\n(35,872)\n₹160\n\nYou are the Best Wife\nEnglish, Paperback, Pandey Ajay K.\n4.5\n(10,824)\n₹134\n\nObjective Ncert at Your Fingertips for class XI+XII - C...\nEnglish, Paperback, unknown\n4.5\n(3,470)\n₹425\n\nAtomic Habits (Paperback, Clear James)\nPaperback, James Clear\n4.6\n(11)\n₹180\n\nSrimad Bhagavad Gita As It Is : HINDI-2018- New Edition...\nHARD BOUND, Hindi, His Divine Grace A. C. Bhaktivedanta Swami Prabhupada\n4.7\n(4,309)\n₹174\n\nHer Last Wish\nEnglish, Paperback, Pandey Ajay K.\n4.5\n(10,277)\n₹118\n\nSsc Multi Tasking Non-Technical Guide 2021\nHindi, Paperback, unknown\n4.3\n(542)\n₹181\n\nSsc Multi Tasking Non-Technical Guide 2021\nEnglish, Paperback, unknown\n4.2\n(641)\n₹179\n\nLucent's Samanya Gyan\nHindi, Paperback, Singh S K\n4.4\n(4,474)\n₹146\n\nAttitude Is Everything: Change Your Attitude ... Change...\nEnglish, Paperback, Jeff Keller\n4.5\n(38,672)\n₹158\n\nWord Power Made Easy\nEnglish, Paperback, Lewis Norman\n4.4\n(59,795)\n₹146\n\nWhen Love Came Calling\nEnglish, Paperback, Shenoy Preeti\n4.6\n(1,691)\n₹106\n\nIndian Economy for Civil Services, Universities and Oth...\nEnglish, Paperback, Singh Ramesh\n4.5\n(5,126)\n₹475\n\nPicture Book Collections for Eary Learning (Set of 12) ...\nEnglish, Cards, Inikao\n4.3\n(12,718)\n₹242\n\nPhysics Part - 1 & 2 , Chemistry Part - 1 & 2 And Mathe...\nPaperback, NCERT\n4.2\n(1,765)\n₹665\n\nEducart Top-Selling Bundle Of Maths (Standard) + Scienc...\nPaperback, Educart\n4.2\n(216)\n₹810\n\nAllen Brand New 2021 Edition Study Material For Neet Pr...\nHardcover, Allen\n4.6\n(9)\n₹4,099\n\nCbse New Pattern 15 Sample Paper English Core Class 12 ...\nEnglish, Paperback, Agarwal Srishti\n4.6\n(1,965)\n₹180\n\nArihant CBSE Chapterwise Solved Papers PHYSICS, CHEMIST...\nPaperback, Arihant Expert\n4.4\n(1,461)\n₹630\n\nHow to Crack Test of Reasoning\nEnglish, Paperback, Jaikishan, Premkishan\n4.4\n(12,731)\n₹160\n\nCbse All in One English Language & Literature Class 10 ...\nEnglish, Paperback, unknown\n4.5\n(3,159)\n₹365\n\nWake Up, Life is Calling\nEnglish, Undefined, Shenoy Preeti\n4.5\n(8,550)\n₹109\n\n"
     ]
    }
   ],
   "source": [
    "book_list = []\n",
    "for book in books:\n",
    "    book_list.append(\n",
    "    {'Title': book.find('a', attrs= \"s1Q9rs\").text,\n",
    "     'Type': book.find('div', attrs= \"_3Djpdu\").text,\n",
    "     'Rating': book.find('div', attrs= '_3LWZlK').text,\n",
    "     'Raters': book.find('span', attrs= '_2_R_DZ').text[1:-1],\n",
    "     'Price': book.find('div', attrs= \"_30jeq3\").text})    "
   ]
  },
  {
   "cell_type": "code",
   "execution_count": 38,
   "metadata": {},
   "outputs": [],
   "source": [
    "import pandas as pd"
   ]
  },
  {
   "cell_type": "code",
   "execution_count": 45,
   "metadata": {},
   "outputs": [
    {
     "output_type": "execute_result",
     "data": {
      "text/plain": [
       "                                                Title  \\\n",
       "0                            Life is What You Make it   \n",
       "1                                 Think and Grow Rich   \n",
       "2   Educart CBSE Class 12 Chemistry Sample Questio...   \n",
       "3   Quantitative Aptitude for Competitive Examinat...   \n",
       "4   Ssc Constable Gd Exam Practice Sets Latest Boo...   \n",
       "5   ENVIRONMENT 7th Revised Edition By Shankar IAS...   \n",
       "6   Educart All Subjects Final Revision Book Of CB...   \n",
       "7   Indian Polity - for Civil Services and Other S...   \n",
       "8                    Ssc Constable Gd Exam Guide 2021   \n",
       "9   26 Years Upsc IAS/ Ips Prelims Topic-Wise Solv...   \n",
       "10  Lucent's General Knowledge And Arihant General...   \n",
       "11                          Objective General English   \n",
       "12         All In One English Core For Class Xii Cbse   \n",
       "13                        Messed Up! But All For Love   \n",
       "14          Lucent's - General Knowledge 2020 Edition   \n",
       "15  Bharat Ki Rajvyavastha - Civil Seva Evam Anya ...   \n",
       "16  Harry Potter 1-3 Box Set: A Magical Adventure ...   \n",
       "17  NCERT Flamingo And Vistas Supplementary Reader...   \n",
       "18                             Life's Amazing Secrets   \n",
       "19                              You are the Best Wife   \n",
       "20  Objective Ncert at Your Fingertips for class X...   \n",
       "21             Atomic Habits (Paperback, Clear James)   \n",
       "22  Srimad Bhagavad Gita As It Is : HINDI-2018- Ne...   \n",
       "23                                      Her Last Wish   \n",
       "24         Ssc Multi Tasking Non-Technical Guide 2021   \n",
       "25         Ssc Multi Tasking Non-Technical Guide 2021   \n",
       "26                              Lucent's Samanya Gyan   \n",
       "27  Attitude Is Everything: Change Your Attitude ....   \n",
       "28                               Word Power Made Easy   \n",
       "29                             When Love Came Calling   \n",
       "30  Indian Economy for Civil Services, Universitie...   \n",
       "31  Picture Book Collections for Eary Learning (Se...   \n",
       "32  Physics Part - 1 & 2 , Chemistry Part - 1 & 2 ...   \n",
       "33  Educart Top-Selling Bundle Of Maths (Standard)...   \n",
       "34  Allen Brand New 2021 Edition Study Material Fo...   \n",
       "35  Cbse New Pattern 15 Sample Paper English Core ...   \n",
       "36  Arihant CBSE Chapterwise Solved Papers PHYSICS...   \n",
       "37                     How to Crack Test of Reasoning   \n",
       "38  Cbse All in One English Language & Literature ...   \n",
       "39                           Wake Up, Life is Calling   \n",
       "\n",
       "                                                 Type Rating  Raters   Price  \n",
       "0                   English, Paperback, Shenoy Preeti    4.2  20,145    ₹114  \n",
       "1                   English, Paperback, Hill Napoleon    4.5  43,569    ₹116  \n",
       "2                    Paperback, Arvind Arora (A2 Sir)    4.5      93    ₹207  \n",
       "3                  English, Paperback, Aggarwal R. S.    4.4  44,911    ₹408  \n",
       "4                  Hindi, Paperback, Agrawal Examcart    4.2     960    ₹142  \n",
       "5                      Paperback, Shankar IAS academy    4.2   7,523    ₹173  \n",
       "6                                  Paperback, Educart    4.3   1,493    ₹168  \n",
       "7                   English, Hardcover, Laxmikanth M.    4.6  25,466    ₹595  \n",
       "8                         English, Paperback, unknown    4.4     260    ₹182  \n",
       "9                    English, Paperback, Patel Mrunal    4.5   4,078    ₹309  \n",
       "10                   Paperback, LUCENT, MANHOR PANDEY    4.4   9,654    ₹187  \n",
       "11                    English, Paperback, Bakshi S.P.    4.4  42,509    ₹205  \n",
       "12                          Paperback, GAJENDRA SINGH    4.6     491    ₹365  \n",
       "13                English, Paperback, Parashar Arvind    4.3     855    ₹100  \n",
       "14           English, Paperback, Lucent's EXPERT Team    4.5  31,042    ₹149  \n",
       "15                    Hindi, Paperback, Laxmikanth M.    4.5  10,409    ₹518  \n",
       "16         English, Mixed media product, Rowling J.K.    4.5     590    ₹890  \n",
       "17                                   Paperback, NCERT    4.4   2,150    ₹110  \n",
       "18                 English, Paperback, Das Gaur Gopal    4.6  35,872    ₹160  \n",
       "19                 English, Paperback, Pandey Ajay K.    4.5  10,824    ₹134  \n",
       "20                        English, Paperback, unknown    4.5   3,470    ₹425  \n",
       "21                             Paperback, James Clear    4.6      11    ₹180  \n",
       "22  HARD BOUND, Hindi, His Divine Grace A. C. Bhak...    4.7   4,309    ₹174  \n",
       "23                 English, Paperback, Pandey Ajay K.    4.5  10,277    ₹118  \n",
       "24                          Hindi, Paperback, unknown    4.3     542    ₹181  \n",
       "25                        English, Paperback, unknown    4.2     641    ₹179  \n",
       "26                        Hindi, Paperback, Singh S K    4.4   4,474    ₹146  \n",
       "27                    English, Paperback, Jeff Keller    4.5  38,672    ₹158  \n",
       "28                   English, Paperback, Lewis Norman    4.4  59,795    ₹146  \n",
       "29                  English, Paperback, Shenoy Preeti    4.6   1,691    ₹106  \n",
       "30                   English, Paperback, Singh Ramesh    4.5   5,126    ₹475  \n",
       "31                             English, Cards, Inikao    4.3  12,718    ₹242  \n",
       "32                                   Paperback, NCERT    4.2   1,765    ₹665  \n",
       "33                                 Paperback, Educart    4.2     216    ₹810  \n",
       "34                                   Hardcover, Allen    4.6       9  ₹4,099  \n",
       "35                English, Paperback, Agarwal Srishti    4.6   1,965    ₹180  \n",
       "36                          Paperback, Arihant Expert    4.4   1,461    ₹630  \n",
       "37          English, Paperback, Jaikishan, Premkishan    4.4  12,731    ₹160  \n",
       "38                        English, Paperback, unknown    4.5   3,159    ₹365  \n",
       "39                  English, Undefined, Shenoy Preeti    4.5   8,550    ₹109  "
      ],
      "text/html": "<div>\n<style scoped>\n    .dataframe tbody tr th:only-of-type {\n        vertical-align: middle;\n    }\n\n    .dataframe tbody tr th {\n        vertical-align: top;\n    }\n\n    .dataframe thead th {\n        text-align: right;\n    }\n</style>\n<table border=\"1\" class=\"dataframe\">\n  <thead>\n    <tr style=\"text-align: right;\">\n      <th></th>\n      <th>Title</th>\n      <th>Type</th>\n      <th>Rating</th>\n      <th>Raters</th>\n      <th>Price</th>\n    </tr>\n  </thead>\n  <tbody>\n    <tr>\n      <th>0</th>\n      <td>Life is What You Make it</td>\n      <td>English, Paperback, Shenoy Preeti</td>\n      <td>4.2</td>\n      <td>20,145</td>\n      <td>₹114</td>\n    </tr>\n    <tr>\n      <th>1</th>\n      <td>Think and Grow Rich</td>\n      <td>English, Paperback, Hill Napoleon</td>\n      <td>4.5</td>\n      <td>43,569</td>\n      <td>₹116</td>\n    </tr>\n    <tr>\n      <th>2</th>\n      <td>Educart CBSE Class 12 Chemistry Sample Questio...</td>\n      <td>Paperback, Arvind Arora (A2 Sir)</td>\n      <td>4.5</td>\n      <td>93</td>\n      <td>₹207</td>\n    </tr>\n    <tr>\n      <th>3</th>\n      <td>Quantitative Aptitude for Competitive Examinat...</td>\n      <td>English, Paperback, Aggarwal R. S.</td>\n      <td>4.4</td>\n      <td>44,911</td>\n      <td>₹408</td>\n    </tr>\n    <tr>\n      <th>4</th>\n      <td>Ssc Constable Gd Exam Practice Sets Latest Boo...</td>\n      <td>Hindi, Paperback, Agrawal Examcart</td>\n      <td>4.2</td>\n      <td>960</td>\n      <td>₹142</td>\n    </tr>\n    <tr>\n      <th>5</th>\n      <td>ENVIRONMENT 7th Revised Edition By Shankar IAS...</td>\n      <td>Paperback, Shankar IAS academy</td>\n      <td>4.2</td>\n      <td>7,523</td>\n      <td>₹173</td>\n    </tr>\n    <tr>\n      <th>6</th>\n      <td>Educart All Subjects Final Revision Book Of CB...</td>\n      <td>Paperback, Educart</td>\n      <td>4.3</td>\n      <td>1,493</td>\n      <td>₹168</td>\n    </tr>\n    <tr>\n      <th>7</th>\n      <td>Indian Polity - for Civil Services and Other S...</td>\n      <td>English, Hardcover, Laxmikanth M.</td>\n      <td>4.6</td>\n      <td>25,466</td>\n      <td>₹595</td>\n    </tr>\n    <tr>\n      <th>8</th>\n      <td>Ssc Constable Gd Exam Guide 2021</td>\n      <td>English, Paperback, unknown</td>\n      <td>4.4</td>\n      <td>260</td>\n      <td>₹182</td>\n    </tr>\n    <tr>\n      <th>9</th>\n      <td>26 Years Upsc IAS/ Ips Prelims Topic-Wise Solv...</td>\n      <td>English, Paperback, Patel Mrunal</td>\n      <td>4.5</td>\n      <td>4,078</td>\n      <td>₹309</td>\n    </tr>\n    <tr>\n      <th>10</th>\n      <td>Lucent's General Knowledge And Arihant General...</td>\n      <td>Paperback, LUCENT, MANHOR PANDEY</td>\n      <td>4.4</td>\n      <td>9,654</td>\n      <td>₹187</td>\n    </tr>\n    <tr>\n      <th>11</th>\n      <td>Objective General English</td>\n      <td>English, Paperback, Bakshi S.P.</td>\n      <td>4.4</td>\n      <td>42,509</td>\n      <td>₹205</td>\n    </tr>\n    <tr>\n      <th>12</th>\n      <td>All In One English Core For Class Xii Cbse</td>\n      <td>Paperback, GAJENDRA SINGH</td>\n      <td>4.6</td>\n      <td>491</td>\n      <td>₹365</td>\n    </tr>\n    <tr>\n      <th>13</th>\n      <td>Messed Up! But All For Love</td>\n      <td>English, Paperback, Parashar Arvind</td>\n      <td>4.3</td>\n      <td>855</td>\n      <td>₹100</td>\n    </tr>\n    <tr>\n      <th>14</th>\n      <td>Lucent's - General Knowledge 2020 Edition</td>\n      <td>English, Paperback, Lucent's EXPERT Team</td>\n      <td>4.5</td>\n      <td>31,042</td>\n      <td>₹149</td>\n    </tr>\n    <tr>\n      <th>15</th>\n      <td>Bharat Ki Rajvyavastha - Civil Seva Evam Anya ...</td>\n      <td>Hindi, Paperback, Laxmikanth M.</td>\n      <td>4.5</td>\n      <td>10,409</td>\n      <td>₹518</td>\n    </tr>\n    <tr>\n      <th>16</th>\n      <td>Harry Potter 1-3 Box Set: A Magical Adventure ...</td>\n      <td>English, Mixed media product, Rowling J.K.</td>\n      <td>4.5</td>\n      <td>590</td>\n      <td>₹890</td>\n    </tr>\n    <tr>\n      <th>17</th>\n      <td>NCERT Flamingo And Vistas Supplementary Reader...</td>\n      <td>Paperback, NCERT</td>\n      <td>4.4</td>\n      <td>2,150</td>\n      <td>₹110</td>\n    </tr>\n    <tr>\n      <th>18</th>\n      <td>Life's Amazing Secrets</td>\n      <td>English, Paperback, Das Gaur Gopal</td>\n      <td>4.6</td>\n      <td>35,872</td>\n      <td>₹160</td>\n    </tr>\n    <tr>\n      <th>19</th>\n      <td>You are the Best Wife</td>\n      <td>English, Paperback, Pandey Ajay K.</td>\n      <td>4.5</td>\n      <td>10,824</td>\n      <td>₹134</td>\n    </tr>\n    <tr>\n      <th>20</th>\n      <td>Objective Ncert at Your Fingertips for class X...</td>\n      <td>English, Paperback, unknown</td>\n      <td>4.5</td>\n      <td>3,470</td>\n      <td>₹425</td>\n    </tr>\n    <tr>\n      <th>21</th>\n      <td>Atomic Habits (Paperback, Clear James)</td>\n      <td>Paperback, James Clear</td>\n      <td>4.6</td>\n      <td>11</td>\n      <td>₹180</td>\n    </tr>\n    <tr>\n      <th>22</th>\n      <td>Srimad Bhagavad Gita As It Is : HINDI-2018- Ne...</td>\n      <td>HARD BOUND, Hindi, His Divine Grace A. C. Bhak...</td>\n      <td>4.7</td>\n      <td>4,309</td>\n      <td>₹174</td>\n    </tr>\n    <tr>\n      <th>23</th>\n      <td>Her Last Wish</td>\n      <td>English, Paperback, Pandey Ajay K.</td>\n      <td>4.5</td>\n      <td>10,277</td>\n      <td>₹118</td>\n    </tr>\n    <tr>\n      <th>24</th>\n      <td>Ssc Multi Tasking Non-Technical Guide 2021</td>\n      <td>Hindi, Paperback, unknown</td>\n      <td>4.3</td>\n      <td>542</td>\n      <td>₹181</td>\n    </tr>\n    <tr>\n      <th>25</th>\n      <td>Ssc Multi Tasking Non-Technical Guide 2021</td>\n      <td>English, Paperback, unknown</td>\n      <td>4.2</td>\n      <td>641</td>\n      <td>₹179</td>\n    </tr>\n    <tr>\n      <th>26</th>\n      <td>Lucent's Samanya Gyan</td>\n      <td>Hindi, Paperback, Singh S K</td>\n      <td>4.4</td>\n      <td>4,474</td>\n      <td>₹146</td>\n    </tr>\n    <tr>\n      <th>27</th>\n      <td>Attitude Is Everything: Change Your Attitude ....</td>\n      <td>English, Paperback, Jeff Keller</td>\n      <td>4.5</td>\n      <td>38,672</td>\n      <td>₹158</td>\n    </tr>\n    <tr>\n      <th>28</th>\n      <td>Word Power Made Easy</td>\n      <td>English, Paperback, Lewis Norman</td>\n      <td>4.4</td>\n      <td>59,795</td>\n      <td>₹146</td>\n    </tr>\n    <tr>\n      <th>29</th>\n      <td>When Love Came Calling</td>\n      <td>English, Paperback, Shenoy Preeti</td>\n      <td>4.6</td>\n      <td>1,691</td>\n      <td>₹106</td>\n    </tr>\n    <tr>\n      <th>30</th>\n      <td>Indian Economy for Civil Services, Universitie...</td>\n      <td>English, Paperback, Singh Ramesh</td>\n      <td>4.5</td>\n      <td>5,126</td>\n      <td>₹475</td>\n    </tr>\n    <tr>\n      <th>31</th>\n      <td>Picture Book Collections for Eary Learning (Se...</td>\n      <td>English, Cards, Inikao</td>\n      <td>4.3</td>\n      <td>12,718</td>\n      <td>₹242</td>\n    </tr>\n    <tr>\n      <th>32</th>\n      <td>Physics Part - 1 &amp; 2 , Chemistry Part - 1 &amp; 2 ...</td>\n      <td>Paperback, NCERT</td>\n      <td>4.2</td>\n      <td>1,765</td>\n      <td>₹665</td>\n    </tr>\n    <tr>\n      <th>33</th>\n      <td>Educart Top-Selling Bundle Of Maths (Standard)...</td>\n      <td>Paperback, Educart</td>\n      <td>4.2</td>\n      <td>216</td>\n      <td>₹810</td>\n    </tr>\n    <tr>\n      <th>34</th>\n      <td>Allen Brand New 2021 Edition Study Material Fo...</td>\n      <td>Hardcover, Allen</td>\n      <td>4.6</td>\n      <td>9</td>\n      <td>₹4,099</td>\n    </tr>\n    <tr>\n      <th>35</th>\n      <td>Cbse New Pattern 15 Sample Paper English Core ...</td>\n      <td>English, Paperback, Agarwal Srishti</td>\n      <td>4.6</td>\n      <td>1,965</td>\n      <td>₹180</td>\n    </tr>\n    <tr>\n      <th>36</th>\n      <td>Arihant CBSE Chapterwise Solved Papers PHYSICS...</td>\n      <td>Paperback, Arihant Expert</td>\n      <td>4.4</td>\n      <td>1,461</td>\n      <td>₹630</td>\n    </tr>\n    <tr>\n      <th>37</th>\n      <td>How to Crack Test of Reasoning</td>\n      <td>English, Paperback, Jaikishan, Premkishan</td>\n      <td>4.4</td>\n      <td>12,731</td>\n      <td>₹160</td>\n    </tr>\n    <tr>\n      <th>38</th>\n      <td>Cbse All in One English Language &amp; Literature ...</td>\n      <td>English, Paperback, unknown</td>\n      <td>4.5</td>\n      <td>3,159</td>\n      <td>₹365</td>\n    </tr>\n    <tr>\n      <th>39</th>\n      <td>Wake Up, Life is Calling</td>\n      <td>English, Undefined, Shenoy Preeti</td>\n      <td>4.5</td>\n      <td>8,550</td>\n      <td>₹109</td>\n    </tr>\n  </tbody>\n</table>\n</div>"
     },
     "metadata": {},
     "execution_count": 45
    }
   ],
   "source": [
    "pd.DataFrame(book_list)"
   ]
  }
 ]
}