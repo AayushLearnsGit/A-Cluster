{
 "cells": [
  {
   "cell_type": "markdown",
   "metadata": {},
   "source": [
    "# Quartiles"
   ]
  },
  {
   "cell_type": "markdown",
   "metadata": {},
   "source": [
    "###  "
   ]
  },
  {
   "cell_type": "markdown",
   "metadata": {},
   "source": [
    "### Method 1"
   ]
  },
  {
   "cell_type": "code",
   "execution_count": 1,
   "metadata": {},
   "outputs": [],
   "source": [
    "def Quartiles(arr):\n",
    "    '''This way of finding the quartiles is based on the concept of\n",
    "    linear approximation.\n",
    "    \n",
    "    • Finding quartiles with this method will give slightly different\n",
    "    results than the other way in which we piece the data in two parts\n",
    "    from the median and then find their quartiles which eventuly\n",
    "    becomes our quartiles.\n",
    "    \n",
    "    • A textbook method - Pg. no: 92'''\n",
    "\n",
    "    length = len(arr)\n",
    "    arr.sort()\n",
    "\n",
    "    def get_midpoint(th_quartile):\n",
    "        mid = th_quartile * ((length + 1) / 4)\n",
    "        th = int(mid) - 1\n",
    "        point = mid - int(mid)\n",
    "        return arr[th] + point * (arr[th + 1] - arr[th])\n",
    "    \n",
    "    return (get_midpoint(1), get_midpoint(2), get_midpoint(3))"
   ]
  },
  {
   "cell_type": "code",
   "execution_count": 2,
   "metadata": {},
   "outputs": [
    {
     "data": {
      "text/plain": [
       "(6.5, 13.0, 15.75)"
      ]
     },
     "execution_count": 2,
     "metadata": {},
     "output_type": "execute_result"
    }
   ],
   "source": [
    "Quartiles([3, 7, 8, 5, 12, 14, 21, 15, 18, 14])"
   ]
  },
  {
   "cell_type": "markdown",
   "metadata": {},
   "source": [
    "###  "
   ]
  },
  {
   "cell_type": "markdown",
   "metadata": {},
   "source": [
    "### Method 2"
   ]
  },
  {
   "cell_type": "code",
   "execution_count": 3,
   "metadata": {},
   "outputs": [],
   "source": [
    "def Quartiles(arr):\n",
    "    '''This is the popular way of finding the quartiles in which\n",
    "    we piece the data in two parts from the median and then find\n",
    "    their quartiles which eventuly becomes our quartiles.'''\n",
    "    \n",
    "    def median(arr):\n",
    "        arr_length = len(arr)\n",
    "        if arr_length % 2 == 0:\n",
    "            left = (arr_length // 2) - 1\n",
    "            right = left + 1\n",
    "            return (arr[left] + arr[right]) / 2\n",
    "        else:\n",
    "            return arr[arr_length // 2]\n",
    "\n",
    "    arr.sort()\n",
    "    length = len(arr)\n",
    "    mid = length // 2\n",
    "    \n",
    "    if (length % 2) == 0:\n",
    "        left = arr[: mid]\n",
    "        right = arr[mid: ]\n",
    "    else:\n",
    "        left = arr[: mid]\n",
    "        right = arr[mid + 1:]\n",
    "\n",
    "    return median(left), median(arr), median(right)"
   ]
  },
  {
   "cell_type": "code",
   "execution_count": 4,
   "metadata": {},
   "outputs": [
    {
     "data": {
      "text/plain": [
       "(7, 13.0, 15)"
      ]
     },
     "execution_count": 4,
     "metadata": {},
     "output_type": "execute_result"
    }
   ],
   "source": [
    "Quartiles([3, 7, 8, 5, 12, 14, 21, 15, 18, 14])"
   ]
  },
  {
   "cell_type": "code",
   "execution_count": 5,
   "metadata": {},
   "outputs": [
    {
     "data": {
      "text/plain": [
       "(3, 5.5, 8)"
      ]
     },
     "execution_count": 5,
     "metadata": {},
     "output_type": "execute_result"
    }
   ],
   "source": [
    "Quartiles([1,2,3,4,5,6,7,8,9,10])"
   ]
  },
  {
   "cell_type": "markdown",
   "metadata": {},
   "source": [
    "# Standard Deviation"
   ]
  },
  {
   "cell_type": "code",
   "execution_count": 6,
   "metadata": {},
   "outputs": [],
   "source": [
    "import math\n",
    "def stdDev(arr):\n",
    "    length = len(arr)\n",
    "    mean = sum(arr) / length\n",
    "    distances = []\n",
    "\n",
    "    for obs in arr:\n",
    "        distances.append((mean - obs) ** 2)\n",
    "    \n",
    "    return math.sqrt(sum(distances) / length)    "
   ]
  },
  {
   "cell_type": "code",
   "execution_count": 7,
   "metadata": {},
   "outputs": [
    {
     "data": {
      "text/plain": [
       "1.707825127659933"
      ]
     },
     "execution_count": 7,
     "metadata": {},
     "output_type": "execute_result"
    }
   ],
   "source": [
    "stdDev([1,2,3,4,5,6])"
   ]
  }
 ],
 "metadata": {
  "kernelspec": {
   "display_name": "Python 3",
   "language": "python",
   "name": "python3"
  },
  "language_info": {
   "codemirror_mode": {
    "name": "ipython",
    "version": 3
   },
   "file_extension": ".py",
   "mimetype": "text/x-python",
   "name": "python",
   "nbconvert_exporter": "python",
   "pygments_lexer": "ipython3",
   "version": "3.8.5"
  }
 },
 "nbformat": 4,
 "nbformat_minor": 2
}
