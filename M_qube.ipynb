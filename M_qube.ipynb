{
 "metadata": {
  "language_info": {
   "codemirror_mode": {
    "name": "ipython",
    "version": 3
   },
   "file_extension": ".py",
   "mimetype": "text/x-python",
   "name": "python",
   "nbconvert_exporter": "python",
   "pygments_lexer": "ipython3",
   "version": "3.8.5-final"
  },
  "orig_nbformat": 2,
  "kernelspec": {
   "name": "python3",
   "display_name": "Python 3.8.5 64-bit (conda)",
   "metadata": {
    "interpreter": {
     "hash": "b3ba2566441a7c06988d0923437866b63cedc61552a5af99d1f4fb67d367b25f"
    }
   }
  }
 },
 "nbformat": 4,
 "nbformat_minor": 2,
 "cells": [
  {
   "cell_type": "code",
   "execution_count": 2,
   "metadata": {},
   "outputs": [
    {
     "output_type": "stream",
     "name": "stdout",
     "text": [
      "30.0\n30.0\n40\n"
     ]
    }
   ],
   "source": [
    "def m_qube(data):\n",
    "    length = len(data)\n",
    "    \n",
    "    \n",
    "    total = 0\n",
    "    frequency = {}\n",
    "    for obs in data:\n",
    "        # Mean \n",
    "        total += obs\n",
    "        \n",
    "        # Mode\n",
    "        if frequency.get(obs):\n",
    "            frequency[obs] += 1\n",
    "        else:\n",
    "            frequency[obs] = 1\n",
    "    mean = total / length\n",
    "    print(\"{0:.1f}\".format(mean))\n",
    "    \n",
    "    # Median\n",
    "    data.sort()\n",
    "    if length % 2 == 0:\n",
    "        left = (length // 2) - 1\n",
    "        right = left + 1\n",
    "        \n",
    "        median = (data[left] + data[right]) / 2\n",
    "    else:\n",
    "        median = data[length // 2]\n",
    "    print(\"{0:.1f}\".format(median))\n",
    "\n",
    "    # Mode\n",
    "    by_freq = {}\n",
    "    for k, v in frequency.items():\n",
    "        if by_freq.get(v):\n",
    "            by_freq[v].append(k)\n",
    "        else:\n",
    "            by_freq[v] = [k]\n",
    "    mode = min(by_freq[ max(by_freq) ])\n",
    "    print(\"{0}\".format(mode))\n",
    "    \n",
    "    \n",
    "m_qube( list(map(int, input().split())) )\n"
   ]
  },
  {
   "cell_type": "code",
   "execution_count": null,
   "metadata": {},
   "outputs": [],
   "source": [
    "def weightedMean(X, W):\n",
    "    \n",
    "    Exw = 0\n",
    "    Ew = 0\n",
    "    \n",
    "    for x, w in zip(X, W):\n",
    "        Exw += x * w\n",
    "        Ew += w\n",
    "    print('{0:.1f}'.format(Exw / Ew))"
   ]
  }
 ]
}