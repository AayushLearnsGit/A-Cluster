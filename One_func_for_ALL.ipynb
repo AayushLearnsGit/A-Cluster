{
 "cells": [
  {
   "cell_type": "markdown",
   "metadata": {},
   "source": [
    "# The Ultimate - Range Distribution\n",
    "\n",
    "**Please read this so you don't have to read the errors!**  \n",
    "There is a function which does all things ar once. So you don't have to screatch your head about maintaining the data and so...  \n",
    "\n",
    "### The function takes:\n",
    "```python\n",
    "classify_data(data, \n",
    "              mode= 'in',\n",
    "              precentage= False,\n",
    "              cf= False,\n",
    "              cf_type= 'lthan',\n",
    "              cf_per= False)\n",
    "```\n",
    "\n",
    "Each of the parameters are self explainatory, but you can tweak them as your need.  \n",
    "Enjoy!"
   ]
  },
  {
   "cell_type": "code",
   "execution_count": 1,
   "metadata": {},
   "outputs": [],
   "source": [
    "from table import Table\n",
    "import numpy as np\n",
    "import math"
   ]
  },
  {
   "cell_type": "code",
   "execution_count": 2,
   "metadata": {},
   "outputs": [],
   "source": [
    "# Range class created for convinieant\n",
    "class Range:\n",
    "    '''This `Range` is different from `range` as you can notice.import\n",
    "    This class manages the Range to be provided during classification of\n",
    "    the raw ungrouped data to the grouped data.'''\n",
    "\n",
    "    \n",
    "    def __init__(self, lower, upper, mode= 'in'):\n",
    "        self._lower = lower\n",
    "        self._upper = upper\n",
    "        self._mode = mode\n",
    "        self.freq = 0\n",
    "        \n",
    "    def __contains__(self, observation):\n",
    "        if self._mode == 'in':\n",
    "            condition = self._lower <= observation < self._upper\n",
    "        else:\n",
    "            condition = self._lower <= observation <= self._upper\n",
    "        if condition:\n",
    "            return True\n",
    "        return False\n",
    "\n",
    "    def __repr__(self):\n",
    "        return str(f'{self._lower} - {self._upper}')"
   ]
  },
  {
   "cell_type": "code",
   "execution_count": 3,
   "metadata": {},
   "outputs": [],
   "source": [
    "def classify_data(data, mode= 'in', precentage= False, cf= False, cf_type= 'lthan', cf_per= False):\n",
    "    '''This function will make the arrangement of the data based on the parameters\n",
    "    you provide.\n",
    "    Acceptable parameters:\n",
    "    \n",
    "    • data: The 1D data that you provide (required)\n",
    "    • mode: 'in' for inclusive & 'ex' for exclusive\n",
    "    • precentage: True or False\n",
    "    • cf: True or False\n",
    "    • cf_type: 'lthan' for Less Than & 'gthan' for Greter than - provide only if cf = True\n",
    "    • cf_per: True or False\n",
    "    '''\n",
    "\n",
    "    range_ = max(data) - min(data)\n",
    "    N = len(data)\n",
    "\n",
    "    # Number of classes with speager's method\n",
    "    k = math.ceil(1 + 3.322 * (np.log10(range_)))\n",
    "    class_width = math.ceil(range_ / k)\n",
    "\n",
    "    mode = mode.lower()\n",
    "    if mode not in ['in', 'ex']:\n",
    "        raise NotImplementedError(f\"The mode must be either 'in' or 'ex'. You provided -> {mode}\")\n",
    "    else:\n",
    "        offset = 1 if mode == 'ex' else 0\n",
    "\n",
    "    # Range objects\n",
    "    prev = min(data)\n",
    "    intervals = []\n",
    "    for cls in range(k):\n",
    "        intervals.append(Range(prev, prev + class_width, mode= mode))\n",
    "        prev += class_width + offset\n",
    "    \n",
    "    # Counting freq\n",
    "    for obs in data:\n",
    "        for class_ in intervals:\n",
    "            if obs in class_:\n",
    "                class_.freq += 1\n",
    "                break\n",
    "    \n",
    "    # Reshaping data to be printed in a tabular format\n",
    "    reshaped = []\n",
    "    total = 0\n",
    "    for entry in intervals: \n",
    "        reshaped.append([entry, entry.freq])\n",
    "        total += entry.freq\n",
    "    \n",
    "\n",
    "    ## Handling parameter conditions\n",
    "\n",
    "    # Percentage\n",
    "    if precentage == True:\n",
    "        for record in reshaped:\n",
    "            prc = round((record[1] * 100) / total, 1)\n",
    "            record.append(str(prc) + \" %\")\n",
    "    \n",
    "    # A function to find percentage if needed\n",
    "    def percentage_cf():\n",
    "        if cf_per:\n",
    "            per = round((100 * cumulated) / total, 1)\n",
    "            return [cumulated, str(per) + \" %\"]\n",
    "        else:\n",
    "            return [cumulated]\n",
    "\n",
    "    # Cumulative Freq\n",
    "    if cf == True:\n",
    "        cf_type = cf_type.lower()\n",
    "        if cf_type not in ['lthan', 'gthan']:\n",
    "            raise NotImplementedError(f\"The cf_type must be either 'lthan' or 'gthan'. You provided -> {cf_type}\")\n",
    "        else:\n",
    "            if cf_type == 'lthan':\n",
    "                prev_freq = 0\n",
    "                for record in reshaped:\n",
    "                    cumulated = prev_freq + record[1]\n",
    "                    record.extend(percentage_cf())\n",
    "                    prev_freq += record[1]\n",
    "            elif cf_type == 'gthan':\n",
    "                prev_freq = 0\n",
    "                total_t = total\n",
    "                for record in reshaped:\n",
    "                    cumulated = total_t - prev_freq\n",
    "                    record.extend(percentage_cf())\n",
    "                    total_t -= prev_freq\n",
    "                    prev_freq = record[1]\n",
    "    return reshaped, total"
   ]
  },
  {
   "cell_type": "markdown",
   "metadata": {},
   "source": [
    "### "
   ]
  },
  {
   "cell_type": "markdown",
   "metadata": {},
   "source": [
    "# That's it!\n",
    "Let's call the function to make it work. "
   ]
  },
  {
   "cell_type": "code",
   "execution_count": 4,
   "metadata": {},
   "outputs": [],
   "source": [
    "# Data\n",
    "data= np.random.randint(0, 100, 200)"
   ]
  },
  {
   "cell_type": "markdown",
   "metadata": {},
   "source": [
    "##### Inclusive"
   ]
  },
  {
   "cell_type": "code",
   "execution_count": 5,
   "metadata": {},
   "outputs": [
    {
     "name": "stdout",
     "output_type": "stream",
     "text": [
      " + ---------- + ------------- + \n",
      " |  Classes   |  Frequencies  | \n",
      " + ---------- + ------------- + \n",
      " |     0 - 13 |            31 | \n",
      " |    13 - 26 |            30 | \n",
      " |    26 - 39 |            30 | \n",
      " |    39 - 52 |            21 | \n",
      " |    52 - 65 |            23 | \n",
      " |    65 - 78 |            20 | \n",
      " |    78 - 91 |            29 | \n",
      " |   91 - 104 |            16 | \n",
      " + ---------- + ------------- + \n",
      "Total:  200\n"
     ]
    }
   ],
   "source": [
    "cls, total = classify_data(data, mode= 'in')\n",
    "\n",
    "Table(cls, headers= ['Classes', 'Frequencies']).construct()\n",
    "print('Total: ', total)"
   ]
  },
  {
   "cell_type": "markdown",
   "metadata": {},
   "source": [
    "##### Exclusive"
   ]
  },
  {
   "cell_type": "code",
   "execution_count": 6,
   "metadata": {},
   "outputs": [
    {
     "name": "stdout",
     "output_type": "stream",
     "text": [
      " + ---------- + ------------- + \n",
      " |  Classes   |  Frequencies  | \n",
      " + ---------- + ------------- + \n",
      " |     0 - 13 |            31 | \n",
      " |    14 - 27 |            35 | \n",
      " |    28 - 41 |            31 | \n",
      " |    42 - 55 |            20 | \n",
      " |    56 - 69 |            28 | \n",
      " |    70 - 83 |            22 | \n",
      " |    84 - 97 |            29 | \n",
      " |   98 - 111 |             4 | \n",
      " + ---------- + ------------- + \n",
      "Total:  200\n"
     ]
    }
   ],
   "source": [
    "cls, total = classify_data(data, mode= 'ex')\n",
    "\n",
    "Table(cls, headers= ['Classes', 'Frequencies']).construct()\n",
    "print('Total: ', total)"
   ]
  },
  {
   "cell_type": "markdown",
   "metadata": {},
   "source": [
    "##### Other options if you need them"
   ]
  },
  {
   "cell_type": "code",
   "execution_count": 7,
   "metadata": {},
   "outputs": [
    {
     "name": "stdout",
     "output_type": "stream",
     "text": [
      " + ---------- + ------------- + ---------- + -------------- + --------- + \n",
      " |  Classes   |  Frequencies  |  Freq_per  |  Less_than cf  |   cf_per  | \n",
      " + ---------- + ------------- + ---------- + -------------- + --------- + \n",
      " |     0 - 13 |            31 |     15.5 % |             31 |    15.5 % | \n",
      " |    14 - 27 |            35 |     17.5 % |             66 |    33.0 % | \n",
      " |    28 - 41 |            31 |     15.5 % |             97 |    48.5 % | \n",
      " |    42 - 55 |            20 |     10.0 % |            117 |    58.5 % | \n",
      " |    56 - 69 |            28 |     14.0 % |            145 |    72.5 % | \n",
      " |    70 - 83 |            22 |     11.0 % |            167 |    83.5 % | \n",
      " |    84 - 97 |            29 |     14.5 % |            196 |    98.0 % | \n",
      " |   98 - 111 |             4 |      2.0 % |            200 |   100.0 % | \n",
      " + ---------- + ------------- + ---------- + -------------- + --------- + \n",
      "Total:  200\n"
     ]
    }
   ],
   "source": [
    "cls, total = classify_data(data, mode= 'ex', precentage= True, cf= True, cf_type= 'lthan', cf_per= True)\n",
    "\n",
    "Table(cls, headers= ['Classes', 'Frequencies', 'Freq_per', 'Less_than cf', 'cf_per']).construct(rows= False)\n",
    "print('Total: ', total)"
   ]
  },
  {
   "cell_type": "markdown",
   "metadata": {},
   "source": [
    "###  "
   ]
  },
  {
   "cell_type": "markdown",
   "metadata": {},
   "source": [
    "###  "
   ]
  },
  {
   "cell_type": "markdown",
   "metadata": {},
   "source": [
    "## Time Complexity\n",
    "\n",
    "Have tried the algorithms **WITH ALL PARAMETERS: turend ON**  and we get the following optimized time complexity"
   ]
  },
  {
   "cell_type": "markdown",
   "metadata": {},
   "source": [
    "##### With 1,000 samples"
   ]
  },
  {
   "cell_type": "code",
   "execution_count": 13,
   "metadata": {},
   "outputs": [
    {
     "name": "stdout",
     "output_type": "stream",
     "text": [
      "3.53 ms ± 154 µs per loop (mean ± std. dev. of 7 runs, 100 loops each)\n"
     ]
    }
   ],
   "source": [
    "data= np.random.randint(0, 100, 1000)\n",
    "%timeit classify_data(data, mode= 'ex', precentage= True, cf= True, cf_type= 'lthan', cf_per= True)"
   ]
  },
  {
   "cell_type": "markdown",
   "metadata": {},
   "source": [
    "##### With 10,000 samples"
   ]
  },
  {
   "cell_type": "code",
   "execution_count": 14,
   "metadata": {},
   "outputs": [
    {
     "name": "stdout",
     "output_type": "stream",
     "text": [
      "32.9 ms ± 3.42 ms per loop (mean ± std. dev. of 7 runs, 10 loops each)\n"
     ]
    }
   ],
   "source": [
    "data= np.random.randint(0, 100, 10000)\n",
    "%timeit classify_data(data, mode= 'ex', precentage= True, cf= True, cf_type= 'lthan', cf_per= True)"
   ]
  },
  {
   "cell_type": "markdown",
   "metadata": {},
   "source": [
    "##### With 10,00,000 samples"
   ]
  },
  {
   "cell_type": "code",
   "execution_count": 15,
   "metadata": {},
   "outputs": [
    {
     "name": "stdout",
     "output_type": "stream",
     "text": [
      "3.11 s ± 105 ms per loop (mean ± std. dev. of 7 runs, 1 loop each)\n"
     ]
    }
   ],
   "source": [
    "data= np.random.randint(0, 100, 10_00_000)\n",
    "%timeit classify_data(data, mode= 'ex', precentage= True, cf= True, cf_type= 'lthan', cf_per= True)"
   ]
  },
  {
   "cell_type": "markdown",
   "metadata": {},
   "source": [
    "###  "
   ]
  },
  {
   "cell_type": "markdown",
   "metadata": {},
   "source": [
    "You can try out more and with more samples. I came up with this the most optimized version.  \n",
    "Of course it can be further optimized somewhere... but I found it \"works well\" for me type.\n",
    "\n",
    "# Thanks!"
   ]
  }
 ],
 "metadata": {
  "kernelspec": {
   "display_name": "Python 3",
   "language": "python",
   "name": "python3"
  },
  "language_info": {
   "codemirror_mode": {
    "name": "ipython",
    "version": 3
   },
   "file_extension": ".py",
   "mimetype": "text/x-python",
   "name": "python",
   "nbconvert_exporter": "python",
   "pygments_lexer": "ipython3",
   "version": "3.8.5"
  }
 },
 "nbformat": 4,
 "nbformat_minor": 2
}
