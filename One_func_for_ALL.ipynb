{
 "cells": [
  {
   "cell_type": "markdown",
   "metadata": {},
   "source": [
    "# The Ultimate - Range Distribution\n",
    "\n",
    "**Please read this so you don't have to read the errors!**  \n",
    "There is a function which does all things ar once. So you don't have to screatch your head about maintaining the data and so... <br> <br> \n",
    "(with added functionality of `Mean` and `Meadian`)\n",
    "### The function takes:\n",
    "```python\n",
    "classify_data(data, \n",
    "              mode= 'in',\n",
    "              precentage= False,\n",
    "              cf= False,\n",
    "              cf_type= 'lthan',\n",
    "              cf_per= False,\n",
    "              kind= None,\n",
    "              auto_header= False)\n",
    "```\n",
    "\n",
    "Each of the parameters are self explainatory, but you can tweak them as your need.  \n",
    "Enjoy!"
   ]
  },
  {
   "cell_type": "code",
   "execution_count": 1,
   "metadata": {},
   "outputs": [],
   "source": [
    "from table import Table\n",
    "import numpy as np\n",
    "import math"
   ]
  },
  {
   "cell_type": "markdown",
   "metadata": {},
   "source": [
    "##### The core of calculation - Class Interval"
   ]
  },
  {
   "cell_type": "code",
   "execution_count": 2,
   "metadata": {},
   "outputs": [],
   "source": [
    "# Range class created for convenience\n",
    "class Range:\n",
    "    '''This `Range` is different from `range` as you can notice.import\n",
    "    This class manages the Range to be provided during classification of\n",
    "    the raw ungrouped data to the grouped data.\n",
    "    \n",
    "    Give mode = 'in' for an Inclusive range and 'ex' for Exclusive.\n",
    "    '''\n",
    "\n",
    "    \n",
    "    def __init__(self, lower, upper, mode= 'in'):\n",
    "        self._lower = lower\n",
    "        self._upper = upper\n",
    "        self._mode = mode\n",
    "        self.freq = 0\n",
    "        self._xi = (self._lower + self._upper) / 2\n",
    "\n",
    "    @property        \n",
    "    def fixi(self):\n",
    "        self._fixi = self._xi * self.freq\n",
    "        return self._fixi\n",
    "        \n",
    "    def __contains__(self, observation):\n",
    "        if self._mode == 'ex':\n",
    "            condition = self._lower <= observation < self._upper\n",
    "        else:\n",
    "            condition = self._lower <= observation <= self._upper\n",
    "        if condition:\n",
    "            return True\n",
    "        return False\n",
    "\n",
    "    def __repr__(self):\n",
    "        return str(f'{self._lower} - {self._upper}')"
   ]
  },
  {
   "cell_type": "markdown",
   "metadata": {},
   "source": [
    "#### Defining actual function to be called - One function for Everything."
   ]
  },
  {
   "cell_type": "code",
   "execution_count": 3,
   "metadata": {},
   "outputs": [],
   "source": [
    "def classify_data(data, mode= 'in', percentage= False, cf= False, cf_type= 'lthan', cf_per= False, kind= None, auto_header= False):\n",
    "    '''This function will make the arrangement of the data based on the parameters\n",
    "    you provide.\n",
    "    Acceptable parameters:\n",
    "    \n",
    "    • data: The 1D data that you provide (required)\n",
    "    • mode: 'in' for inclusive & 'ex' for exclusive\n",
    "    • precentage: True or False\n",
    "    • cf: True or False\n",
    "    • cf_type: 'lthan' for Less Than & 'gthan' for Greter than - provide only if cf = True\n",
    "    • cf_per: True or False\n",
    "    • kind: 'mean' or 'median'\n",
    "    • auto_header: True or False\n",
    "    \n",
    "    You can toggle the visibility of your required column by these parameters.\n",
    "    Enjoy!\n",
    "    '''\n",
    "\n",
    "    range_ = max(data) - min(data)\n",
    "    N = len(data)\n",
    "    k = math.ceil(1 + 3.322 * (np.log10(range_))) # speager's method\n",
    "    class_width = math.ceil(range_ / k)\n",
    "\n",
    "    mode = mode.lower()\n",
    "    if mode not in ['in', 'ex']:\n",
    "        raise NotImplementedError(f\"The mode must be either 'in' or 'ex'. You provided -> {mode}\")\n",
    "    else:\n",
    "        offset = 1 if mode == 'in' else 0\n",
    "\n",
    "    # Range objects\n",
    "    prev = min(data)\n",
    "    intervals = []\n",
    "    for cls in range(k):\n",
    "        intervals.append(Range(prev, prev + class_width, mode= mode))\n",
    "        prev += class_width + offset\n",
    "    \n",
    "    # Counting freq\n",
    "    for obs in data:\n",
    "        for class_ in intervals:\n",
    "            if obs in class_:\n",
    "                class_.freq += 1\n",
    "                break\n",
    "    \n",
    "    ' -- Main computation heavy part is done, now handling the parameters -- '\n",
    "    departure = {} # Where all final features will be stored and will\n",
    "                   # be shown in the final table.\n",
    "    \n",
    "\n",
    "    # Percentage\n",
    "    if percentage == True:\n",
    "        departure['percentage'] = []\n",
    "        for intrvl in intervals:\n",
    "            prc = round((intrvl.freq * 100) / N, 1)\n",
    "            departure['percentage'].append(str(prc) + \" %\")\n",
    "    \n",
    "    \n",
    "    # Function which returns cf\n",
    "    def get_cf(cf_type):\n",
    "        cfs = []\n",
    "        if cf_type == 'lthan':\n",
    "            prev_freq = 0\n",
    "            for intrvl in intervals:\n",
    "                cumulated = prev_freq + intrvl.freq\n",
    "                cfs.append(cumulated)\n",
    "                prev_freq += intrvl.freq\n",
    "        \n",
    "        elif cf_type == 'gthan':\n",
    "            prev_freq = 0\n",
    "            total_t = N\n",
    "            for intrvl in intervals:\n",
    "                cumulated = total_t - prev_freq\n",
    "                cfs.append(cumulated)\n",
    "                total_t -= prev_freq\n",
    "                prev_freq = intrvl.freq\n",
    "        return cfs\n",
    "\n",
    "\n",
    "    # Cumulative Freq\n",
    "    if cf == True:\n",
    "        cf_type = cf_type.lower()\n",
    "        if cf_type not in ['lthan', 'gthan']:\n",
    "            raise NotImplementedError(f\"The cf_type must be either 'lthan' or 'gthan'. You provided -> {cf_type}\")\n",
    "        else:\n",
    "            departure['cf'] = get_cf(cf_type)\n",
    "\n",
    "\n",
    "    # CF percentage\n",
    "    if cf_per == True and cf == True:\n",
    "        departure['cf_per'] = []\n",
    "        for cf in departure['cf']:\n",
    "            per = round((100 * cf) / N, 1)\n",
    "            departure['cf_per'].append(str(per) + \" %\")\n",
    "    \n",
    "\n",
    "    # If mean or meadian is to be found\n",
    "    if kind:\n",
    "        if kind.lower() == 'mean':\n",
    "            departure['xi'] = []\n",
    "            departure['fixi'] = []\n",
    "            Efixi = 0\n",
    "            \n",
    "            for intrvl in intervals:\n",
    "                departure['xi'].append(intrvl._xi)\n",
    "                departure['fixi'].append(intrvl.fixi)\n",
    "                Efixi += intrvl.fixi\n",
    "            \n",
    "            central_val = Efixi / N\n",
    "        \n",
    "        elif kind.lower() == 'median':\n",
    "            if cf != True or cf_type == 'gthan':\n",
    "                departure['cf'] = get_cf('lthan')\n",
    "            \n",
    "            th = (N + 1) / 2\n",
    "            for i, intrvl in enumerate(intervals):\n",
    "                th_cf = departure['cf'][i]\n",
    "                if th_cf >= th:\n",
    "                    m = 0 if i == 0 else departure['cf'][i-1]\n",
    "                    central_val = intrvl._lower + (((N / 2) - m) / intrvl.freq) * class_width\n",
    "                    break\n",
    "         \n",
    "        else: raise NotImplementedError(\"Provide either 'mean' or 'median'\")\n",
    "\n",
    "    # Reshaping data to be printed in a tabular format\n",
    "    reshaped = []\n",
    "    total = 0\n",
    "    \n",
    "    for i, entry in enumerate(intervals): \n",
    "        reshaped.append([entry, entry.freq])\n",
    "        \n",
    "        for functionality in departure:\n",
    "            reshaped[-1].append(departure[functionality][i])\n",
    "        total += entry.freq\n",
    "\n",
    "    if kind: total = [total, central_val]\n",
    "    if auto_header:\n",
    "        headers = ['Classes', 'Frequencies']\n",
    "        for key in departure:\n",
    "            headers.append(key)\n",
    "        return reshaped, total, headers\n",
    "    return reshaped, total"
   ]
  },
  {
   "cell_type": "markdown",
   "metadata": {},
   "source": [
    "### "
   ]
  },
  {
   "cell_type": "markdown",
   "metadata": {},
   "source": [
    "# That's it!\n",
    "Let's call the function to make it work. "
   ]
  },
  {
   "cell_type": "code",
   "execution_count": 4,
   "metadata": {},
   "outputs": [],
   "source": [
    "# Data\n",
    "data= np.random.randint(0, 100, 200)"
   ]
  },
  {
   "cell_type": "markdown",
   "metadata": {},
   "source": [
    "##### Inclusive"
   ]
  },
  {
   "cell_type": "code",
   "execution_count": 5,
   "metadata": {},
   "outputs": [
    {
     "name": "stdout",
     "output_type": "stream",
     "text": [
      " + ---------- + ------------- + \n",
      " |  Classes   |  Frequencies  | \n",
      " + ---------- + ------------- + \n",
      " |     0 - 13 |            20 | \n",
      " |    14 - 27 |            36 | \n",
      " |    28 - 41 |            28 | \n",
      " |    42 - 55 |            28 | \n",
      " |    56 - 69 |            29 | \n",
      " |    70 - 83 |            28 | \n",
      " |    84 - 97 |            27 | \n",
      " |   98 - 111 |             4 | \n",
      " + ---------- + ------------- + \n",
      "Total:  200\n"
     ]
    }
   ],
   "source": [
    "cls, total = classify_data(data, mode= 'in')\n",
    "\n",
    "tbl = Table(cls, headers= ['Classes', 'Frequencies'])\n",
    "tbl.construct()\n",
    "print('Total: ', total)"
   ]
  },
  {
   "cell_type": "markdown",
   "metadata": {},
   "source": [
    "##### Exclusive"
   ]
  },
  {
   "cell_type": "code",
   "execution_count": 6,
   "metadata": {},
   "outputs": [
    {
     "name": "stdout",
     "output_type": "stream",
     "text": [
      " + ---------- + ------------- + \n",
      " |  Classes   |  Frequencies  | \n",
      " + ---------- + ------------- + \n",
      " |     0 - 13 |            19 | \n",
      " |    13 - 26 |            34 | \n",
      " |    26 - 39 |            25 | \n",
      " |    39 - 52 |            28 | \n",
      " |    52 - 65 |            23 | \n",
      " |    65 - 78 |            29 | \n",
      " |    78 - 91 |            25 | \n",
      " |   91 - 104 |            17 | \n",
      " + ---------- + ------------- + \n",
      "Total:  200\n"
     ]
    }
   ],
   "source": [
    "cls, total = classify_data(data, mode= 'ex')\n",
    "\n",
    "tbl = Table(cls, headers= ['Classes', 'Frequencies'])\n",
    "tbl.construct()\n",
    "print('Total: ', total)"
   ]
  },
  {
   "cell_type": "markdown",
   "metadata": {},
   "source": [
    "##### Other options if you need them"
   ]
  },
  {
   "cell_type": "markdown",
   "metadata": {},
   "source": [
    "Given `auto_header = True`"
   ]
  },
  {
   "cell_type": "code",
   "execution_count": 7,
   "metadata": {},
   "outputs": [
    {
     "name": "stdout",
     "output_type": "stream",
     "text": [
      " + ---------- + ------------- + ------------ + \n",
      " |  Classes   |  Frequencies  |  percentage  | \n",
      " + ---------- + ------------- + ------------ + \n",
      " |     0 - 13 |            20 |       10.0 % | \n",
      " |    14 - 27 |            36 |       18.0 % | \n",
      " |    28 - 41 |            28 |       14.0 % | \n",
      " |    42 - 55 |            28 |       14.0 % | \n",
      " |    56 - 69 |            29 |       14.5 % | \n",
      " |    70 - 83 |            28 |       14.0 % | \n",
      " |    84 - 97 |            27 |       13.5 % | \n",
      " |   98 - 111 |             4 |        2.0 % | \n",
      " + ---------- + ------------- + ------------ + \n",
      "Total:  200\n"
     ]
    }
   ],
   "source": [
    "cls, total, headers = classify_data(data, mode= 'in', percentage= True, auto_header= True)\n",
    "\n",
    "tbl = Table(cls, headers= headers)\n",
    "tbl.construct()\n",
    "print('Total: ', total)"
   ]
  },
  {
   "cell_type": "markdown",
   "metadata": {},
   "source": [
    " "
   ]
  },
  {
   "cell_type": "markdown",
   "metadata": {},
   "source": [
    "# "
   ]
  },
  {
   "cell_type": "markdown",
   "metadata": {},
   "source": [
    "#### Try `Row = True`"
   ]
  },
  {
   "cell_type": "code",
   "execution_count": 8,
   "metadata": {},
   "outputs": [
    {
     "name": "stdout",
     "output_type": "stream",
     "text": [
      " + ---------- + ------------- + ------------ + \n",
      " |  Classes   |  Frequencies  |  percentage  | \n",
      " + ---------- + ------------- + ------------ + \n",
      " |     0 - 13 |            20 |       10.0 % | \n",
      " ---------------------------------------------\n",
      " |    14 - 27 |            36 |       18.0 % | \n",
      " ---------------------------------------------\n",
      " |    28 - 41 |            28 |       14.0 % | \n",
      " ---------------------------------------------\n",
      " |    42 - 55 |            28 |       14.0 % | \n",
      " ---------------------------------------------\n",
      " |    56 - 69 |            29 |       14.5 % | \n",
      " ---------------------------------------------\n",
      " |    70 - 83 |            28 |       14.0 % | \n",
      " ---------------------------------------------\n",
      " |    84 - 97 |            27 |       13.5 % | \n",
      " ---------------------------------------------\n",
      " |   98 - 111 |             4 |        2.0 % | \n",
      " + ---------- + ------------- + ------------ + \n",
      "Total:  200\n"
     ]
    }
   ],
   "source": [
    "cls, total, headers = classify_data(data, mode= 'in', percentage= True, auto_header= True)\n",
    "\n",
    "tbl = Table(cls, headers= headers)\n",
    "tbl.construct(rows= True)\n",
    "print('Total: ', total)"
   ]
  },
  {
   "cell_type": "markdown",
   "metadata": {},
   "source": [
    "#### With Mean\n",
    "Given `auto_headers = True`"
   ]
  },
  {
   "cell_type": "code",
   "execution_count": 9,
   "metadata": {},
   "outputs": [
    {
     "name": "stdout",
     "output_type": "stream",
     "text": [
      " + ---------- + ------------- + ------- + -------- + \n",
      " |  Classes   |  Frequencies  |    xi   |   fixi   | \n",
      " + ---------- + ------------- + ------- + -------- + \n",
      " |     0 - 13 |            20 |     6.5 |    130.0 | \n",
      " |    14 - 27 |            36 |    20.5 |    738.0 | \n",
      " |    28 - 41 |            28 |    34.5 |    966.0 | \n",
      " |    42 - 55 |            28 |    48.5 |   1358.0 | \n",
      " |    56 - 69 |            29 |    62.5 |   1812.5 | \n",
      " |    70 - 83 |            28 |    76.5 |   2142.0 | \n",
      " |    84 - 97 |            27 |    90.5 |   2443.5 | \n",
      " |   98 - 111 |             4 |   104.5 |    418.0 | \n",
      " + ---------- + ------------- + ------- + -------- + \n",
      "Total:  200\n",
      " Mean:  50.04\n"
     ]
    }
   ],
   "source": [
    "cls, total, headers = classify_data(data, mode= 'in',\n",
    "                                    kind= 'mean', auto_header= True)\n",
    "\n",
    "Table(cls, headers= headers).construct(rows= False)\n",
    "print('Total: ', total[0])\n",
    "print(' Mean: ', total[1])"
   ]
  },
  {
   "cell_type": "markdown",
   "metadata": {},
   "source": [
    "#### With Median"
   ]
  },
  {
   "cell_type": "code",
   "execution_count": 10,
   "metadata": {},
   "outputs": [
    {
     "name": "stdout",
     "output_type": "stream",
     "text": [
      " + ---------- + ------------- + ----- + \n",
      " |  Classes   |  Frequencies  |   cf  | \n",
      " + ---------- + ------------- + ----- + \n",
      " |     0 - 13 |            20 |    20 | \n",
      " |    14 - 27 |            36 |    56 | \n",
      " |    28 - 41 |            28 |    84 | \n",
      " |    42 - 55 |            28 |   112 | \n",
      " |    56 - 69 |            29 |   141 | \n",
      " |    70 - 83 |            28 |   169 | \n",
      " |    84 - 97 |            27 |   196 | \n",
      " |   98 - 111 |             4 |   200 | \n",
      " + ---------- + ------------- + ----- + \n",
      " Total:  200\n",
      "Median:  49.42857142857143\n"
     ]
    }
   ],
   "source": [
    "cls, total, headers = classify_data(data, mode= 'in',\n",
    "                                    kind= 'median', auto_header= True)\n",
    "\n",
    "Table(cls, headers= headers).construct(rows= False)\n",
    "print(' Total: ', total[0])\n",
    "print('Median: ', total[1])"
   ]
  },
  {
   "cell_type": "markdown",
   "metadata": {},
   "source": [
    "#### Mean and Median will change slightly based on the mode you give i.e. 'Inclusive' or 'Exclusive'"
   ]
  },
  {
   "cell_type": "markdown",
   "metadata": {},
   "source": [
    "###  "
   ]
  },
  {
   "cell_type": "markdown",
   "metadata": {},
   "source": [
    "### With all options..."
   ]
  },
  {
   "cell_type": "code",
   "execution_count": 11,
   "metadata": {},
   "outputs": [
    {
     "name": "stdout",
     "output_type": "stream",
     "text": [
      " + ---------- + ------------- + ------------ + ----- + --------- + ------- + -------- + \n",
      " |  Classes   |  Frequencies  |  percentage  |   cf  |   cf_per  |    xi   |   fixi   | \n",
      " + ---------- + ------------- + ------------ + ----- + --------- + ------- + -------- + \n",
      " |     0 - 13 |            20 |       10.0 % |   200 |   100.0 % |     6.5 |    130.0 | \n",
      " |    14 - 27 |            36 |       18.0 % |   180 |    90.0 % |    20.5 |    738.0 | \n",
      " |    28 - 41 |            28 |       14.0 % |   144 |    72.0 % |    34.5 |    966.0 | \n",
      " |    42 - 55 |            28 |       14.0 % |   116 |    58.0 % |    48.5 |   1358.0 | \n",
      " |    56 - 69 |            29 |       14.5 % |    88 |    44.0 % |    62.5 |   1812.5 | \n",
      " |    70 - 83 |            28 |       14.0 % |    59 |    29.5 % |    76.5 |   2142.0 | \n",
      " |    84 - 97 |            27 |       13.5 % |    31 |    15.5 % |    90.5 |   2443.5 | \n",
      " |   98 - 111 |             4 |        2.0 % |     4 |     2.0 % |   104.5 |    418.0 | \n",
      " + ---------- + ------------- + ------------ + ----- + --------- + ------- + -------- + \n",
      "Total:  200\n",
      " Mean:  50.04\n"
     ]
    }
   ],
   "source": [
    "cls, total, headers = classify_data(data, mode= 'in', percentage= True,\n",
    "                                    cf= True, cf_type= 'gthan', cf_per= True,\n",
    "                                    kind= 'mean', auto_header= True)\n",
    "\n",
    "Table(cls, headers= headers).construct(rows= False)\n",
    "print('Total: ', total[0])\n",
    "print(' Mean: ', total[1])"
   ]
  },
  {
   "cell_type": "markdown",
   "metadata": {},
   "source": [
    "###  "
   ]
  },
  {
   "cell_type": "markdown",
   "metadata": {},
   "source": [
    "Try out all combinations of the parameters based on your convenience."
   ]
  },
  {
   "cell_type": "markdown",
   "metadata": {},
   "source": [
    "###  "
   ]
  },
  {
   "cell_type": "markdown",
   "metadata": {},
   "source": [
    "###  "
   ]
  },
  {
   "cell_type": "markdown",
   "metadata": {},
   "source": [
    "## Time Complexity\n",
    "\n",
    "Have tried the algorithm **WITH ALL PARAMETERS: turend ON**  and we get the following optimized time complexity"
   ]
  },
  {
   "cell_type": "markdown",
   "metadata": {},
   "source": [
    "##### With 1,000 samples"
   ]
  },
  {
   "cell_type": "code",
   "execution_count": 15,
   "metadata": {},
   "outputs": [
    {
     "name": "stdout",
     "output_type": "stream",
     "text": [
      "1.5 ms ± 5.5 µs per loop (mean ± std. dev. of 7 runs, 1000 loops each)\n"
     ]
    }
   ],
   "source": [
    "data= np.random.randint(0, 100, 1000)\n",
    "%timeit classify_data(data, mode= 'in', percentage= True, cf= True, cf_type= 'gthan', cf_per= True, kind= 'mean', auto_header= True)"
   ]
  },
  {
   "cell_type": "markdown",
   "metadata": {},
   "source": [
    "##### With 10,000 samples"
   ]
  },
  {
   "cell_type": "code",
   "execution_count": 16,
   "metadata": {},
   "outputs": [
    {
     "name": "stdout",
     "output_type": "stream",
     "text": [
      "14.7 ms ± 52.2 µs per loop (mean ± std. dev. of 7 runs, 100 loops each)\n"
     ]
    }
   ],
   "source": [
    "data= np.random.randint(0, 100, 10000)\n",
    "%timeit classify_data(data, mode= 'in', percentage= True, cf= True, cf_type= 'gthan', cf_per= True, kind= 'mean', auto_header= True)"
   ]
  },
  {
   "cell_type": "markdown",
   "metadata": {},
   "source": [
    "##### With 10,00,000 samples"
   ]
  },
  {
   "cell_type": "code",
   "execution_count": 17,
   "metadata": {},
   "outputs": [
    {
     "name": "stdout",
     "output_type": "stream",
     "text": [
      "1.46 s ± 9.81 ms per loop (mean ± std. dev. of 7 runs, 1 loop each)\n"
     ]
    }
   ],
   "source": [
    "data= np.random.randint(0, 100, 10_00_000)\n",
    "%timeit classify_data(data, mode= 'in', percentage= True, cf= True, cf_type= 'gthan', cf_per= True, kind= 'mean', auto_header= True)"
   ]
  },
  {
   "cell_type": "markdown",
   "metadata": {},
   "source": [
    "###  "
   ]
  },
  {
   "cell_type": "markdown",
   "metadata": {},
   "source": [
    "You can try out more and with more samples. I came up with this the most optimized version.  \n",
    "Of course it can be further optimized somewhere... but I found it \"works well\" for me type.\n",
    "\n",
    "**EDIT**: Have just realized that, this version of code works surprisingly faster than the   \n",
    "past one. (Also in past there were no mean or median - In current version mean and meadian are there!)\n",
    "\n",
    "# Thanks!"
   ]
  }
 ],
 "metadata": {
  "kernelspec": {
   "display_name": "Python 3",
   "language": "python",
   "name": "python3"
  },
  "language_info": {
   "codemirror_mode": {
    "name": "ipython",
    "version": 3
   },
   "file_extension": ".py",
   "mimetype": "text/x-python",
   "name": "python",
   "nbconvert_exporter": "python",
   "pygments_lexer": "ipython3",
   "version": "3.8.5"
  }
 },
 "nbformat": 4,
 "nbformat_minor": 2
}
