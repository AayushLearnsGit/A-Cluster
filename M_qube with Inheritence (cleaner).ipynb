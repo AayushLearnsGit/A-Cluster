{
 "metadata": {
  "language_info": {
   "codemirror_mode": {
    "name": "ipython",
    "version": 3
   },
   "file_extension": ".py",
   "mimetype": "text/x-python",
   "name": "python",
   "nbconvert_exporter": "python",
   "pygments_lexer": "ipython3",
   "version": "3.8.5-final"
  },
  "orig_nbformat": 2,
  "kernelspec": {
   "name": "python3",
   "display_name": "Python 3.8.5 64-bit (conda)",
   "metadata": {
    "interpreter": {
     "hash": "cd8ac7ed5329ff1f59a8356dfddf06d159cf18414acbfd7b13d1d5cd1cbb5d7d"
    }
   }
  }
 },
 "nbformat": 4,
 "nbformat_minor": 2,
 "cells": [
  {
   "source": [
    "# `M_qube` with Inheritence"
   ],
   "cell_type": "markdown",
   "metadata": {}
  },
  {
   "cell_type": "code",
   "execution_count": 1,
   "metadata": {},
   "outputs": [],
   "source": [
    "class Initialize():\n",
    "    '''A base class to initialize values to the object'''\n",
    "\n",
    "    def __init__(self, values):\n",
    "        self._values = values\n",
    "        self._length = len(values)\n",
    "        self._values.sort()\n",
    "\n",
    "class M_qube(Initialize):\n",
    "    '''A derived class of `Initialize` which gives three\n",
    "    operations on the values - Mean, Median and Mode'''\n",
    "\n",
    "    def __init__(self, values):\n",
    "        super().__init__(values)\n",
    "    \n",
    "    def mean(self):\n",
    "        total = 0\n",
    "        for obs in self._values:\n",
    "            total += obs\n",
    "        return total / self._length\n",
    "\n",
    "    def median(self):\n",
    "        if self._length % 2 == 0:\n",
    "            left = (self._length // 2) - 1\n",
    "            right = left + 1\n",
    "            median = (self._values[left] + self._values[right]) / 2\n",
    "        else:\n",
    "            median = self._values[self._length // 2]\n",
    "        return median\n",
    "    \n",
    "    def mode(self):\n",
    "        frequency = {}\n",
    "        by_freq = {}\n",
    "        \n",
    "        for obs in self._values:\n",
    "            if frequency.get(obs):\n",
    "                frequency[obs] += 1\n",
    "            else:\n",
    "                frequency[obs] = 1\n",
    "\n",
    "        for k, v in frequency.items():\n",
    "            if by_freq.get(v):\n",
    "                by_freq[v].append(k)\n",
    "            else:\n",
    "                by_freq[v] = [k]\n",
    "\n",
    "        mode = min(by_freq[max(by_freq)])\n",
    "        return mode\n",
    "\n",
    "\n",
    "\n",
    "    "
   ]
  },
  {
   "cell_type": "code",
   "execution_count": 2,
   "metadata": {},
   "outputs": [],
   "source": [
    "obj = M_qube([1,2,3,4,5,6,7,8,9,10])"
   ]
  },
  {
   "cell_type": "code",
   "execution_count": 3,
   "metadata": {},
   "outputs": [
    {
     "output_type": "execute_result",
     "data": {
      "text/plain": [
       "5.5"
      ]
     },
     "metadata": {},
     "execution_count": 3
    }
   ],
   "source": [
    "obj.mean()"
   ]
  },
  {
   "cell_type": "code",
   "execution_count": 4,
   "metadata": {},
   "outputs": [
    {
     "output_type": "execute_result",
     "data": {
      "text/plain": [
       "5.5"
      ]
     },
     "metadata": {},
     "execution_count": 4
    }
   ],
   "source": [
    "obj.median()"
   ]
  },
  {
   "cell_type": "code",
   "execution_count": 5,
   "metadata": {},
   "outputs": [
    {
     "output_type": "execute_result",
     "data": {
      "text/plain": [
       "1"
      ]
     },
     "metadata": {},
     "execution_count": 5
    }
   ],
   "source": [
    "obj.mode()"
   ]
  }
 ]
}