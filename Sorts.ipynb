{
 "metadata": {
  "language_info": {
   "codemirror_mode": {
    "name": "ipython",
    "version": 3
   },
   "file_extension": ".py",
   "mimetype": "text/x-python",
   "name": "python",
   "nbconvert_exporter": "python",
   "pygments_lexer": "ipython3",
   "version": "3.8.5-final"
  },
  "orig_nbformat": 2,
  "kernelspec": {
   "name": "python3",
   "display_name": "Python 3.8.5 64-bit (conda)",
   "metadata": {
    "interpreter": {
     "hash": "6276afa2ed53bdffa0d05699cfc669431bd0bffa16515ae02d4621f3cb78675c"
    }
   }
  }
 },
 "nbformat": 4,
 "nbformat_minor": 2,
 "cells": [
  {
   "source": [
    "# Bubble"
   ],
   "cell_type": "markdown",
   "metadata": {}
  },
  {
   "cell_type": "code",
   "execution_count": 6,
   "metadata": {},
   "outputs": [],
   "source": [
    "def Bubble(values):\n",
    "    length = len(values)\n",
    "    for i in range(length):\n",
    "        swapped = False\n",
    "        for j in range(length - i - 1):\n",
    "            if values[j] > values[j+1]:\n",
    "                values[j], values[j+1] = values[j+1], values[j]\n",
    "                swapped = True\n",
    "        \n",
    "        if swapped == False:\n",
    "            break\n",
    "    return values"
   ]
  },
  {
   "cell_type": "code",
   "execution_count": 8,
   "metadata": {},
   "outputs": [
    {
     "output_type": "execute_result",
     "data": {
      "text/plain": [
       "[1, 1, 2, 3, 3, 3, 4, 4, 5, 5, 6, 44, 66, 66, 123]"
      ]
     },
     "metadata": {},
     "execution_count": 8
    }
   ],
   "source": [
    "Bubble([3,5,44,66,123,1,66,6,2,3,4,4,3,1,5])"
   ]
  },
  {
   "source": [
    "# Insertion"
   ],
   "cell_type": "markdown",
   "metadata": {}
  },
  {
   "cell_type": "code",
   "execution_count": 11,
   "metadata": {},
   "outputs": [],
   "source": [
    "def Insertion(values):\n",
    "    for i in range(1, len(values)):\n",
    "        j = i\n",
    "        while j > 0 and values[j] <= values[j-1]:\n",
    "                values[j], values[j-1] = values[j-1], values[j]\n",
    "                j -= 1\n",
    "            \n",
    "    return values"
   ]
  },
  {
   "cell_type": "code",
   "execution_count": 12,
   "metadata": {},
   "outputs": [
    {
     "output_type": "execute_result",
     "data": {
      "text/plain": [
       "[1, 1, 2, 3, 3, 3, 4, 4, 5, 5, 6, 44, 66, 66, 123]"
      ]
     },
     "metadata": {},
     "execution_count": 12
    }
   ],
   "source": [
    "Insertion([3,5,44,66,123,1,66,6,2,3,4,4,3,1,5])"
   ]
  },
  {
   "source": [
    "# Selection"
   ],
   "cell_type": "markdown",
   "metadata": {}
  },
  {
   "cell_type": "code",
   "execution_count": 32,
   "metadata": {},
   "outputs": [],
   "source": [
    "def Selection(values):\n",
    "    length = len(values)\n",
    "    \n",
    "    for i in range(length):\n",
    "        max_loc = 0\n",
    "        for j in range(length - i):\n",
    "            if values[j] > values[max_loc]:\n",
    "                max_loc = j\n",
    "        values[max_loc], values[j] = values[j], values[max_loc]\n",
    "\n",
    "    return values"
   ]
  },
  {
   "cell_type": "code",
   "execution_count": 33,
   "metadata": {},
   "outputs": [
    {
     "output_type": "execute_result",
     "data": {
      "text/plain": [
       "[1, 1, 2, 3, 3, 3, 4, 4, 5, 5, 6, 44, 66, 66, 123]"
      ]
     },
     "metadata": {},
     "execution_count": 33
    }
   ],
   "source": [
    "Selection([3,5,44,66,123,1,66,6,2,3,4,4,3,1,5])"
   ]
  },
  {
   "cell_type": "code",
   "execution_count": null,
   "metadata": {},
   "outputs": [],
   "source": []
  }
 ]
}