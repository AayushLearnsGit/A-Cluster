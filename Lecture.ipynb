{
 "metadata": {
  "language_info": {
   "codemirror_mode": {
    "name": "ipython",
    "version": 3
   },
   "file_extension": ".py",
   "mimetype": "text/x-python",
   "name": "python",
   "nbconvert_exporter": "python",
   "pygments_lexer": "ipython3",
   "version": "3.8.5-final"
  },
  "orig_nbformat": 2,
  "kernelspec": {
   "name": "python3",
   "display_name": "Python 3.8.5 64-bit (conda)",
   "metadata": {
    "interpreter": {
     "hash": "b3ba2566441a7c06988d0923437866b63cedc61552a5af99d1f4fb67d367b25f"
    }
   }
  }
 },
 "nbformat": 4,
 "nbformat_minor": 2,
 "cells": [
  {
   "source": [
    "# Introducing - Range & Frequency\n",
    "\n",
    "Hello!  \n",
    "Here I have implemented the ungrouped data distribution into the grouped data.  \n",
    "For that the implementation below will be useful to understand the code. And if you **notice, there is a `Table` module** imported in this notebook. Hey, just don't jump to your python any search for it! It is not there, I have created for my convinient. ( More about `Table` can be found at `Table-Stable.ipynb` )"
   ],
   "cell_type": "markdown",
   "metadata": {}
  },
  {
   "cell_type": "code",
   "execution_count": 1,
   "metadata": {},
   "outputs": [],
   "source": [
    "from table import Table\n",
    "import numpy as np\n",
    "import math"
   ]
  },
  {
   "cell_type": "code",
   "execution_count": 2,
   "metadata": {},
   "outputs": [],
   "source": [
    "#Fake data\n",
    "data = np.random.randint(0, 50, 100)\n",
    "range_ = max(data) - min(data)\n",
    "\n",
    "# Number of classes with speager's method\n",
    "k = round(1 + 3.322 * (np.log10(range_)))\n",
    "class_width = int(range_ / k)"
   ]
  },
  {
   "cell_type": "code",
   "execution_count": 3,
   "metadata": {},
   "outputs": [],
   "source": [
    "# Range class created for convinieant\n",
    "class Range:\n",
    "    '''This `Range` is different from `range` as you can notice.import\n",
    "    This class manages the Range to be provided during classification of\n",
    "    the raw ungrouped data to the grouped data.'''\n",
    "\n",
    "    \n",
    "    def __init__(self, lower, upper):\n",
    "        self._lower = lower\n",
    "        self._upper = upper\n",
    "        self.freq = 0\n",
    "\n",
    "    def __contains__(self, observation):\n",
    "        if self._lower <= observation <= self._upper:\n",
    "            return True\n",
    "        return False\n",
    "\n",
    "    def __repr__(self):\n",
    "        return str(f'{self._lower} - {self._upper}')"
   ]
  },
  {
   "cell_type": "code",
   "execution_count": 4,
   "metadata": {},
   "outputs": [
    {
     "output_type": "execute_result",
     "data": {
      "text/plain": [
       "[0 - 7, 8 - 15, 16 - 23, 24 - 31, 32 - 39, 40 - 47, 48 - 55]"
      ]
     },
     "metadata": {},
     "execution_count": 4
    }
   ],
   "source": [
    "# Data preparation\n",
    "prev = min(data)\n",
    "classes = []\n",
    "for cls in range(k):\n",
    "    classes.append(Range(prev, prev + class_width))\n",
    "    prev += class_width + 1\n",
    "\n",
    "classes"
   ]
  },
  {
   "cell_type": "code",
   "execution_count": 5,
   "metadata": {},
   "outputs": [],
   "source": [
    "# Counting frequency\n",
    "for obs in data:\n",
    "    for class_ in classes:\n",
    "        if obs in class_:\n",
    "            class_.freq += 1"
   ]
  },
  {
   "cell_type": "code",
   "execution_count": 6,
   "metadata": {},
   "outputs": [],
   "source": [
    "# Reshaping data to be printed in a tabular format\n",
    "def buildData(classes):\n",
    "    data = []\n",
    "    total = 0\n",
    "    for entry in classes:\n",
    "        data.append([entry, entry.freq])\n",
    "        total += entry.freq\n",
    "\n",
    "    return data, total"
   ]
  },
  {
   "cell_type": "code",
   "execution_count": 7,
   "metadata": {},
   "outputs": [
    {
     "output_type": "stream",
     "name": "stdout",
     "text": [
      " + --------- + ------------- + \n |  Classes  |  Frequencies  | \n + --------- + ------------- + \n |     0 - 7 |            21 | \n |    8 - 15 |            17 | \n |   16 - 23 |            13 | \n |   24 - 31 |            16 | \n |   32 - 39 |            18 | \n |   40 - 47 |            14 | \n |   48 - 55 |             1 | \n + --------- + ------------- + \nTotal:  100\n"
     ]
    }
   ],
   "source": [
    "cls, total = buildData(classes)\n",
    "Table(cls, ['Classes', 'Frequencies']).construct()\n",
    "print('Total: ', total)"
   ]
  },
  {
   "source": [
    "### Again, more about Table in `Table-Stable.ipynb`\n",
    "Thanks!"
   ],
   "cell_type": "markdown",
   "metadata": {}
  }
 ]
}